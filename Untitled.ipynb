{
 "cells": [
  {
   "cell_type": "code",
   "execution_count": 1,
   "metadata": {},
   "outputs": [],
   "source": [
    "from sc_convertor import * #(f, w, bits)\n",
    "import numpy as np\n",
    "import tensorflow as tf\n",
    "from math import ceil, log2\n",
    "from quantize_convolution import *"
   ]
  },
  {
   "cell_type": "markdown",
   "metadata": {},
   "source": [
    "This function is the main function. It first quantizes the data, then computes the convolution using rotational stochastic multiplication method given in [this paper]. After that it converts the conv result to binary.\n",
    "\n",
    "[this paper]: https://dl.acm.org/citation.cfm?id=2966988"
   ]
  },
  {
   "cell_type": "code",
   "execution_count": 8,
   "metadata": {},
   "outputs": [],
   "source": [
    "def rns_conv(modulos, a, b, stride, padding, max_range, hight_range, use_new_mult = False):\n",
    "    a, b, mult_factor = quantize_i_k(a, b, hight_range)\n",
    "    normal_conv = my_conv(a, b, stride, padding).astype(int)\n",
    "\n",
    "    new_a = [a % m for m in modulos]\n",
    "    new_b = [b % m for m in modulos]\n",
    "    conv_result = [my_conv(new_a[i], new_b[i], stride, padding, use_skippy=use_new_mult, bits=ceil(log2(modulos[i]))) % modulos[i] for i in range(len(modulos))]\n",
    "    # convert back to binary\n",
    "    if(functools.reduce(operator.mul, modulos, 1) < (len(range(int(normal_conv.min()), int(normal_conv.max()))))):\n",
    "        print(\"Overflow\")\n",
    "        \n",
    "    demod_result = chinese_theorem(conv_result, normal_conv.shape, normal_conv.max(), modulos)\n",
    "    \n",
    "    dequan_result = demod_result / (mult_factor ** 2)\n",
    "    \n",
    "    return dequan_result"
   ]
  },
  {
   "cell_type": "markdown",
   "metadata": {},
   "source": [
    "# Testing the function"
   ]
  },
  {
   "cell_type": "code",
   "execution_count": 18,
   "metadata": {},
   "outputs": [],
   "source": [
    "stride = [1, 1, 1, 1]\n",
    "channels = 3\n",
    "input_shape = (8,8)\n",
    "filter_shape = (3, 3)\n",
    "high = 100000\n",
    "modulos = [7,8,9]\n",
    "input_range = [0, 5]\n",
    "filter_range = [0, 1]"
   ]
  },
  {
   "cell_type": "code",
   "execution_count": 19,
   "metadata": {},
   "outputs": [],
   "source": [
    "ni = np.random.randint(size = (1, input_shape[0], input_shape[1], channels), low = input_range[0], high = input_range[1])\n",
    "nk = np.random.uniform(size = (filter_shape[0], filter_shape[1], channels, 1), low = filter_range[0], high = filter_range[1])\n",
    "k = tf.constant(nk, dtype=tf.float32)\n",
    "i = tf.constant(ni, dtype=tf.float32)"
   ]
  },
  {
   "cell_type": "code",
   "execution_count": 21,
   "metadata": {},
   "outputs": [],
   "source": [
    "# g = my_conv(ni, nk, stride, \"VALID\")\n",
    "# d = my_tensor_quan_conv(i, k, stride, \"VALID\", high)\n",
    "# e = my_np_quan_conv(ni, nk, stride, \"VALID\", high)\n",
    "c = tf.nn.conv2d(i, k, stride, \"VALID\")\n",
    "our_conv_result = rns_conv(modulos, ni, nk, stride, \"VALID\", high, 20, use_new_mult=True)"
   ]
  },
  {
   "cell_type": "code",
   "execution_count": 29,
   "metadata": {},
   "outputs": [
    {
     "name": "stdout",
     "output_type": "stream",
     "text": [
      "mean squared error is 28.105974733206452\n"
     ]
    }
   ],
   "source": [
    "with tf.Session() as sess:\n",
    "    normal_convolution_result = sess.run(c)\n",
    "\n",
    "print(\"mean squared error is\",((our_conv_result.flatten() - normal_convolution_result.flatten())**2).mean())"
   ]
  },
  {
   "cell_type": "code",
   "execution_count": null,
   "metadata": {},
   "outputs": [],
   "source": []
  }
 ],
 "metadata": {
  "kernelspec": {
   "display_name": "Python 3",
   "language": "python",
   "name": "python3"
  },
  "language_info": {
   "codemirror_mode": {
    "name": "ipython",
    "version": 3
   },
   "file_extension": ".py",
   "mimetype": "text/x-python",
   "name": "python",
   "nbconvert_exporter": "python",
   "pygments_lexer": "ipython3",
   "version": "3.6.6"
  }
 },
 "nbformat": 4,
 "nbformat_minor": 2
}
